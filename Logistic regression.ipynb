{
 "cells": [
  {
   "cell_type": "code",
   "execution_count": 1,
   "id": "loving-championship",
   "metadata": {},
   "outputs": [],
   "source": [
    "import numpy as np \n",
    "import pandas as pd\n",
    "import matplotlib.pyplot as plt\n",
    "import seaborn as sns\n",
    "%matplotlib inline\n",
    "import warnings\n",
    "warnings.filterwarnings('ignore')\n",
    "from sklearn.linear_model import LogisticRegression\n",
    "import seaborn as sns\n",
    "from sklearn.preprocessing import scale \n",
    "from sklearn.model_selection import train_test_split, GridSearchCV, cross_val_score\n",
    "from sklearn.metrics import confusion_matrix, accuracy_score, classification_report\n",
    "from sklearn.metrics import roc_auc_score,roc_curve\n",
    "from sklearn.linear_model import LogisticRegression\n",
    "from sklearn.metrics import mean_squared_error, r2_score,mean_absolute_error\n",
    "import scipy.stats as ss"
   ]
  },
  {
   "cell_type": "markdown",
   "id": "civilian-planet",
   "metadata": {},
   "source": [
    "## EDA"
   ]
  },
  {
   "cell_type": "code",
   "execution_count": 2,
   "id": "beautiful-jimmy",
   "metadata": {},
   "outputs": [
    {
     "data": {
      "text/html": [
       "<div>\n",
       "<style scoped>\n",
       "    .dataframe tbody tr th:only-of-type {\n",
       "        vertical-align: middle;\n",
       "    }\n",
       "\n",
       "    .dataframe tbody tr th {\n",
       "        vertical-align: top;\n",
       "    }\n",
       "\n",
       "    .dataframe thead th {\n",
       "        text-align: right;\n",
       "    }\n",
       "</style>\n",
       "<table border=\"1\" class=\"dataframe\">\n",
       "  <thead>\n",
       "    <tr style=\"text-align: right;\">\n",
       "      <th></th>\n",
       "      <th>Status</th>\n",
       "      <th>Life expectancy</th>\n",
       "      <th>Adult Mortality</th>\n",
       "      <th>BMI</th>\n",
       "      <th>HIV/AIDS</th>\n",
       "      <th>Diphtheria</th>\n",
       "      <th>Polio</th>\n",
       "      <th>GDP</th>\n",
       "      <th>Income composition of resources</th>\n",
       "      <th>Schooling</th>\n",
       "    </tr>\n",
       "  </thead>\n",
       "  <tbody>\n",
       "    <tr>\n",
       "      <th>0</th>\n",
       "      <td>Developing</td>\n",
       "      <td>73.3</td>\n",
       "      <td>127.0</td>\n",
       "      <td>43.0</td>\n",
       "      <td>0.9</td>\n",
       "      <td>93.0</td>\n",
       "      <td>86.0</td>\n",
       "      <td>11568.111100</td>\n",
       "      <td>0.741</td>\n",
       "      <td>14.0</td>\n",
       "    </tr>\n",
       "    <tr>\n",
       "      <th>1</th>\n",
       "      <td>Developing</td>\n",
       "      <td>56.9</td>\n",
       "      <td>436.0</td>\n",
       "      <td>33.7</td>\n",
       "      <td>13.4</td>\n",
       "      <td>96.0</td>\n",
       "      <td>96.0</td>\n",
       "      <td>5714.479370</td>\n",
       "      <td>0.630</td>\n",
       "      <td>12.1</td>\n",
       "    </tr>\n",
       "    <tr>\n",
       "      <th>2</th>\n",
       "      <td>Developing</td>\n",
       "      <td>63.5</td>\n",
       "      <td>241.0</td>\n",
       "      <td>35.0</td>\n",
       "      <td>2.1</td>\n",
       "      <td>84.0</td>\n",
       "      <td>84.0</td>\n",
       "      <td>1862.167274</td>\n",
       "      <td>0.470</td>\n",
       "      <td>6.3</td>\n",
       "    </tr>\n",
       "    <tr>\n",
       "      <th>3</th>\n",
       "      <td>Developed</td>\n",
       "      <td>79.4</td>\n",
       "      <td>85.0</td>\n",
       "      <td>57.5</td>\n",
       "      <td>0.1</td>\n",
       "      <td>99.0</td>\n",
       "      <td>99.0</td>\n",
       "      <td>89739.711700</td>\n",
       "      <td>0.880</td>\n",
       "      <td>13.5</td>\n",
       "    </tr>\n",
       "    <tr>\n",
       "      <th>4</th>\n",
       "      <td>Developing</td>\n",
       "      <td>74.5</td>\n",
       "      <td>14.0</td>\n",
       "      <td>55.0</td>\n",
       "      <td>0.1</td>\n",
       "      <td>94.0</td>\n",
       "      <td>94.0</td>\n",
       "      <td>3161.529350</td>\n",
       "      <td>0.798</td>\n",
       "      <td>12.0</td>\n",
       "    </tr>\n",
       "    <tr>\n",
       "      <th>...</th>\n",
       "      <td>...</td>\n",
       "      <td>...</td>\n",
       "      <td>...</td>\n",
       "      <td>...</td>\n",
       "      <td>...</td>\n",
       "      <td>...</td>\n",
       "      <td>...</td>\n",
       "      <td>...</td>\n",
       "      <td>...</td>\n",
       "      <td>...</td>\n",
       "    </tr>\n",
       "    <tr>\n",
       "      <th>1759</th>\n",
       "      <td>Developing</td>\n",
       "      <td>74.4</td>\n",
       "      <td>111.0</td>\n",
       "      <td>49.2</td>\n",
       "      <td>0.1</td>\n",
       "      <td>85.0</td>\n",
       "      <td>85.0</td>\n",
       "      <td>1657.322800</td>\n",
       "      <td>0.775</td>\n",
       "      <td>15.3</td>\n",
       "    </tr>\n",
       "    <tr>\n",
       "      <th>1760</th>\n",
       "      <td>Developing</td>\n",
       "      <td>63.8</td>\n",
       "      <td>247.0</td>\n",
       "      <td>18.9</td>\n",
       "      <td>1.3</td>\n",
       "      <td>97.0</td>\n",
       "      <td>93.0</td>\n",
       "      <td>617.317648</td>\n",
       "      <td>0.464</td>\n",
       "      <td>10.2</td>\n",
       "    </tr>\n",
       "    <tr>\n",
       "      <th>1761</th>\n",
       "      <td>Developing</td>\n",
       "      <td>69.7</td>\n",
       "      <td>28.0</td>\n",
       "      <td>48.2</td>\n",
       "      <td>2.0</td>\n",
       "      <td>87.0</td>\n",
       "      <td>86.0</td>\n",
       "      <td>3681.599300</td>\n",
       "      <td>0.668</td>\n",
       "      <td>12.6</td>\n",
       "    </tr>\n",
       "    <tr>\n",
       "      <th>1762</th>\n",
       "      <td>Developed</td>\n",
       "      <td>79.7</td>\n",
       "      <td>82.0</td>\n",
       "      <td>57.9</td>\n",
       "      <td>0.1</td>\n",
       "      <td>99.0</td>\n",
       "      <td>96.0</td>\n",
       "      <td>1618.492800</td>\n",
       "      <td>0.877</td>\n",
       "      <td>13.5</td>\n",
       "    </tr>\n",
       "    <tr>\n",
       "      <th>1763</th>\n",
       "      <td>Developing</td>\n",
       "      <td>75.9</td>\n",
       "      <td>81.0</td>\n",
       "      <td>2.3</td>\n",
       "      <td>0.1</td>\n",
       "      <td>98.0</td>\n",
       "      <td>98.0</td>\n",
       "      <td>5828.621374</td>\n",
       "      <td>0.641</td>\n",
       "      <td>11.8</td>\n",
       "    </tr>\n",
       "  </tbody>\n",
       "</table>\n",
       "<p>1764 rows × 10 columns</p>\n",
       "</div>"
      ],
      "text/plain": [
       "          Status  Life expectancy  Adult Mortality   BMI  HIV/AIDS  \\\n",
       "0     Developing             73.3            127.0  43.0       0.9   \n",
       "1     Developing             56.9            436.0  33.7      13.4   \n",
       "2     Developing             63.5            241.0  35.0       2.1   \n",
       "3      Developed             79.4             85.0  57.5       0.1   \n",
       "4     Developing             74.5             14.0  55.0       0.1   \n",
       "...          ...              ...              ...   ...       ...   \n",
       "1759  Developing             74.4            111.0  49.2       0.1   \n",
       "1760  Developing             63.8            247.0  18.9       1.3   \n",
       "1761  Developing             69.7             28.0  48.2       2.0   \n",
       "1762   Developed             79.7             82.0  57.9       0.1   \n",
       "1763  Developing             75.9             81.0   2.3       0.1   \n",
       "\n",
       "      Diphtheria  Polio           GDP  Income composition of resources  \\\n",
       "0           93.0   86.0  11568.111100                            0.741   \n",
       "1           96.0   96.0   5714.479370                            0.630   \n",
       "2           84.0   84.0   1862.167274                            0.470   \n",
       "3           99.0   99.0  89739.711700                            0.880   \n",
       "4           94.0   94.0   3161.529350                            0.798   \n",
       "...          ...    ...           ...                              ...   \n",
       "1759        85.0   85.0   1657.322800                            0.775   \n",
       "1760        97.0   93.0    617.317648                            0.464   \n",
       "1761        87.0   86.0   3681.599300                            0.668   \n",
       "1762        99.0   96.0   1618.492800                            0.877   \n",
       "1763        98.0   98.0   5828.621374                            0.641   \n",
       "\n",
       "      Schooling  \n",
       "0          14.0  \n",
       "1          12.1  \n",
       "2           6.3  \n",
       "3          13.5  \n",
       "4          12.0  \n",
       "...         ...  \n",
       "1759       15.3  \n",
       "1760       10.2  \n",
       "1761       12.6  \n",
       "1762       13.5  \n",
       "1763       11.8  \n",
       "\n",
       "[1764 rows x 10 columns]"
      ]
     },
     "execution_count": 2,
     "metadata": {},
     "output_type": "execute_result"
    }
   ],
   "source": [
    "train = pd.read_csv('prep0122255_train.csv')\n",
    "train.head(5)\n",
    "train = train.drop(train.columns[0], axis=1)\n",
    "train"
   ]
  },
  {
   "cell_type": "code",
   "execution_count": 3,
   "id": "public-newspaper",
   "metadata": {},
   "outputs": [
    {
     "name": "stdout",
     "output_type": "stream",
     "text": [
      "<class 'pandas.core.frame.DataFrame'>\n",
      "RangeIndex: 1764 entries, 0 to 1763\n",
      "Data columns (total 10 columns):\n",
      " #   Column                           Non-Null Count  Dtype  \n",
      "---  ------                           --------------  -----  \n",
      " 0   Status                           1764 non-null   object \n",
      " 1   Life expectancy                  1764 non-null   float64\n",
      " 2   Adult Mortality                  1764 non-null   float64\n",
      " 3   BMI                              1764 non-null   float64\n",
      " 4   HIV/AIDS                         1764 non-null   float64\n",
      " 5   Diphtheria                       1764 non-null   float64\n",
      " 6   Polio                            1764 non-null   float64\n",
      " 7   GDP                              1764 non-null   float64\n",
      " 8   Income composition of resources  1764 non-null   float64\n",
      " 9   Schooling                        1764 non-null   float64\n",
      "dtypes: float64(9), object(1)\n",
      "memory usage: 137.9+ KB\n",
      "None\n"
     ]
    }
   ],
   "source": [
    "print(train.info())"
   ]
  },
  {
   "cell_type": "code",
   "execution_count": 4,
   "id": "american-criticism",
   "metadata": {},
   "outputs": [
    {
     "data": {
      "text/html": [
       "<div>\n",
       "<style scoped>\n",
       "    .dataframe tbody tr th:only-of-type {\n",
       "        vertical-align: middle;\n",
       "    }\n",
       "\n",
       "    .dataframe tbody tr th {\n",
       "        vertical-align: top;\n",
       "    }\n",
       "\n",
       "    .dataframe thead th {\n",
       "        text-align: right;\n",
       "    }\n",
       "</style>\n",
       "<table border=\"1\" class=\"dataframe\">\n",
       "  <thead>\n",
       "    <tr style=\"text-align: right;\">\n",
       "      <th></th>\n",
       "      <th>count</th>\n",
       "      <th>mean</th>\n",
       "      <th>std</th>\n",
       "      <th>min</th>\n",
       "      <th>25%</th>\n",
       "      <th>50%</th>\n",
       "      <th>75%</th>\n",
       "      <th>max</th>\n",
       "    </tr>\n",
       "  </thead>\n",
       "  <tbody>\n",
       "    <tr>\n",
       "      <th>Life expectancy</th>\n",
       "      <td>1764.0</td>\n",
       "      <td>69.593651</td>\n",
       "      <td>9.610978</td>\n",
       "      <td>39.00000</td>\n",
       "      <td>63.500000</td>\n",
       "      <td>72.400000</td>\n",
       "      <td>76.100000</td>\n",
       "      <td>89.0000</td>\n",
       "    </tr>\n",
       "    <tr>\n",
       "      <th>Adult Mortality</th>\n",
       "      <td>1764.0</td>\n",
       "      <td>159.693311</td>\n",
       "      <td>125.207161</td>\n",
       "      <td>1.00000</td>\n",
       "      <td>69.000000</td>\n",
       "      <td>135.000000</td>\n",
       "      <td>221.000000</td>\n",
       "      <td>723.0000</td>\n",
       "    </tr>\n",
       "    <tr>\n",
       "      <th>BMI</th>\n",
       "      <td>1764.0</td>\n",
       "      <td>38.558503</td>\n",
       "      <td>19.791448</td>\n",
       "      <td>1.40000</td>\n",
       "      <td>19.500000</td>\n",
       "      <td>44.200000</td>\n",
       "      <td>56.225000</td>\n",
       "      <td>77.6000</td>\n",
       "    </tr>\n",
       "    <tr>\n",
       "      <th>HIV/AIDS</th>\n",
       "      <td>1764.0</td>\n",
       "      <td>1.807370</td>\n",
       "      <td>5.171301</td>\n",
       "      <td>0.10000</td>\n",
       "      <td>0.100000</td>\n",
       "      <td>0.100000</td>\n",
       "      <td>0.800000</td>\n",
       "      <td>50.3000</td>\n",
       "    </tr>\n",
       "    <tr>\n",
       "      <th>Diphtheria</th>\n",
       "      <td>1764.0</td>\n",
       "      <td>83.147959</td>\n",
       "      <td>22.756777</td>\n",
       "      <td>2.00000</td>\n",
       "      <td>80.500000</td>\n",
       "      <td>93.000000</td>\n",
       "      <td>97.000000</td>\n",
       "      <td>99.0000</td>\n",
       "    </tr>\n",
       "    <tr>\n",
       "      <th>Polio</th>\n",
       "      <td>1764.0</td>\n",
       "      <td>83.202948</td>\n",
       "      <td>22.478721</td>\n",
       "      <td>3.00000</td>\n",
       "      <td>78.750000</td>\n",
       "      <td>93.000000</td>\n",
       "      <td>97.000000</td>\n",
       "      <td>99.0000</td>\n",
       "    </tr>\n",
       "    <tr>\n",
       "      <th>GDP</th>\n",
       "      <td>1764.0</td>\n",
       "      <td>7624.314387</td>\n",
       "      <td>14706.912934</td>\n",
       "      <td>1.68135</td>\n",
       "      <td>472.954181</td>\n",
       "      <td>1846.393295</td>\n",
       "      <td>5935.136533</td>\n",
       "      <td>119172.7418</td>\n",
       "    </tr>\n",
       "    <tr>\n",
       "      <th>Income composition of resources</th>\n",
       "      <td>1764.0</td>\n",
       "      <td>0.636972</td>\n",
       "      <td>0.208750</td>\n",
       "      <td>0.00000</td>\n",
       "      <td>0.501000</td>\n",
       "      <td>0.687000</td>\n",
       "      <td>0.788000</td>\n",
       "      <td>0.9480</td>\n",
       "    </tr>\n",
       "    <tr>\n",
       "      <th>Schooling</th>\n",
       "      <td>1764.0</td>\n",
       "      <td>12.212925</td>\n",
       "      <td>3.229011</td>\n",
       "      <td>0.00000</td>\n",
       "      <td>10.300000</td>\n",
       "      <td>12.400000</td>\n",
       "      <td>14.500000</td>\n",
       "      <td>20.7000</td>\n",
       "    </tr>\n",
       "  </tbody>\n",
       "</table>\n",
       "</div>"
      ],
      "text/plain": [
       "                                  count         mean           std       min  \\\n",
       "Life expectancy                  1764.0    69.593651      9.610978  39.00000   \n",
       "Adult Mortality                  1764.0   159.693311    125.207161   1.00000   \n",
       "BMI                              1764.0    38.558503     19.791448   1.40000   \n",
       "HIV/AIDS                         1764.0     1.807370      5.171301   0.10000   \n",
       "Diphtheria                       1764.0    83.147959     22.756777   2.00000   \n",
       "Polio                            1764.0    83.202948     22.478721   3.00000   \n",
       "GDP                              1764.0  7624.314387  14706.912934   1.68135   \n",
       "Income composition of resources  1764.0     0.636972      0.208750   0.00000   \n",
       "Schooling                        1764.0    12.212925      3.229011   0.00000   \n",
       "\n",
       "                                        25%          50%          75%  \\\n",
       "Life expectancy                   63.500000    72.400000    76.100000   \n",
       "Adult Mortality                   69.000000   135.000000   221.000000   \n",
       "BMI                               19.500000    44.200000    56.225000   \n",
       "HIV/AIDS                           0.100000     0.100000     0.800000   \n",
       "Diphtheria                        80.500000    93.000000    97.000000   \n",
       "Polio                             78.750000    93.000000    97.000000   \n",
       "GDP                              472.954181  1846.393295  5935.136533   \n",
       "Income composition of resources    0.501000     0.687000     0.788000   \n",
       "Schooling                         10.300000    12.400000    14.500000   \n",
       "\n",
       "                                         max  \n",
       "Life expectancy                      89.0000  \n",
       "Adult Mortality                     723.0000  \n",
       "BMI                                  77.6000  \n",
       "HIV/AIDS                             50.3000  \n",
       "Diphtheria                           99.0000  \n",
       "Polio                                99.0000  \n",
       "GDP                              119172.7418  \n",
       "Income composition of resources       0.9480  \n",
       "Schooling                            20.7000  "
      ]
     },
     "execution_count": 4,
     "metadata": {},
     "output_type": "execute_result"
    }
   ],
   "source": [
    "train.describe().T"
   ]
  },
  {
   "cell_type": "code",
   "execution_count": 5,
   "id": "military-mortgage",
   "metadata": {},
   "outputs": [
    {
     "name": "stdout",
     "output_type": "stream",
     "text": [
      "Null values:\n",
      " Status                             0\n",
      "Life expectancy                    0\n",
      "Adult Mortality                    0\n",
      "BMI                                0\n",
      "HIV/AIDS                           0\n",
      "Diphtheria                         0\n",
      "Polio                              0\n",
      "GDP                                0\n",
      "Income composition of resources    0\n",
      "Schooling                          0\n",
      "dtype: int64\n"
     ]
    }
   ],
   "source": [
    "print(\"Null values:\\n\", train.isnull().sum())"
   ]
  },
  {
   "cell_type": "code",
   "execution_count": 6,
   "id": "institutional-visiting",
   "metadata": {},
   "outputs": [
    {
     "name": "stdout",
     "output_type": "stream",
     "text": [
      "Percent missingness:\n",
      " Status                             0.0\n",
      "Life expectancy                    0.0\n",
      "Adult Mortality                    0.0\n",
      "BMI                                0.0\n",
      "HIV/AIDS                           0.0\n",
      "Diphtheria                         0.0\n",
      "Polio                              0.0\n",
      "GDP                                0.0\n",
      "Income composition of resources    0.0\n",
      "Schooling                          0.0\n",
      "dtype: float64\n"
     ]
    }
   ],
   "source": [
    "print(\"Percent missingness:\\n\", train.isnull().sum() / train.count())"
   ]
  },
  {
   "cell_type": "code",
   "execution_count": 7,
   "id": "soviet-right",
   "metadata": {},
   "outputs": [
    {
     "name": "stdout",
     "output_type": "stream",
     "text": [
      "Shape:\n",
      " (1764, 10)\n"
     ]
    }
   ],
   "source": [
    "print(\"Shape:\\n\", train.shape)"
   ]
  },
  {
   "cell_type": "code",
   "execution_count": 8,
   "id": "indirect-tattoo",
   "metadata": {},
   "outputs": [
    {
     "name": "stdout",
     "output_type": "stream",
     "text": [
      "Data Types:\n",
      " Status                              object\n",
      "Life expectancy                    float64\n",
      "Adult Mortality                    float64\n",
      "BMI                                float64\n",
      "HIV/AIDS                           float64\n",
      "Diphtheria                         float64\n",
      "Polio                              float64\n",
      "GDP                                float64\n",
      "Income composition of resources    float64\n",
      "Schooling                          float64\n",
      "dtype: object\n"
     ]
    }
   ],
   "source": [
    "print(\"Data Types:\\n\", train.dtypes)"
   ]
  },
  {
   "cell_type": "code",
   "execution_count": 9,
   "id": "other-medicaid",
   "metadata": {},
   "outputs": [
    {
     "data": {
      "text/html": [
       "<style  type=\"text/css\" >\n",
       "#T_6ae95b46_17e5_11ed_8c97_5405db013b35row0_col0,#T_6ae95b46_17e5_11ed_8c97_5405db013b35row1_col1,#T_6ae95b46_17e5_11ed_8c97_5405db013b35row2_col2,#T_6ae95b46_17e5_11ed_8c97_5405db013b35row3_col3,#T_6ae95b46_17e5_11ed_8c97_5405db013b35row4_col4,#T_6ae95b46_17e5_11ed_8c97_5405db013b35row5_col5,#T_6ae95b46_17e5_11ed_8c97_5405db013b35row6_col6,#T_6ae95b46_17e5_11ed_8c97_5405db013b35row7_col7,#T_6ae95b46_17e5_11ed_8c97_5405db013b35row8_col8{\n",
       "            background-color:  #f0f921;\n",
       "            color:  #000000;\n",
       "        }#T_6ae95b46_17e5_11ed_8c97_5405db013b35row0_col1,#T_6ae95b46_17e5_11ed_8c97_5405db013b35row0_col3,#T_6ae95b46_17e5_11ed_8c97_5405db013b35row1_col0,#T_6ae95b46_17e5_11ed_8c97_5405db013b35row1_col2,#T_6ae95b46_17e5_11ed_8c97_5405db013b35row1_col4,#T_6ae95b46_17e5_11ed_8c97_5405db013b35row1_col5,#T_6ae95b46_17e5_11ed_8c97_5405db013b35row1_col6,#T_6ae95b46_17e5_11ed_8c97_5405db013b35row1_col7,#T_6ae95b46_17e5_11ed_8c97_5405db013b35row1_col8{\n",
       "            background-color:  #9c179e;\n",
       "            color:  #f1f1f1;\n",
       "        }#T_6ae95b46_17e5_11ed_8c97_5405db013b35row0_col2{\n",
       "            background-color:  #fca537;\n",
       "            color:  #000000;\n",
       "        }#T_6ae95b46_17e5_11ed_8c97_5405db013b35row0_col4{\n",
       "            background-color:  #f3874a;\n",
       "            color:  #000000;\n",
       "        }#T_6ae95b46_17e5_11ed_8c97_5405db013b35row0_col5{\n",
       "            background-color:  #f3854b;\n",
       "            color:  #000000;\n",
       "        }#T_6ae95b46_17e5_11ed_8c97_5405db013b35row0_col6,#T_6ae95b46_17e5_11ed_8c97_5405db013b35row5_col7,#T_6ae95b46_17e5_11ed_8c97_5405db013b35row7_col6{\n",
       "            background-color:  #f48948;\n",
       "            color:  #000000;\n",
       "        }#T_6ae95b46_17e5_11ed_8c97_5405db013b35row0_col7{\n",
       "            background-color:  #fdc527;\n",
       "            color:  #000000;\n",
       "        }#T_6ae95b46_17e5_11ed_8c97_5405db013b35row0_col8{\n",
       "            background-color:  #fdcb26;\n",
       "            color:  #000000;\n",
       "        }#T_6ae95b46_17e5_11ed_8c97_5405db013b35row1_col3{\n",
       "            background-color:  #fdac33;\n",
       "            color:  #000000;\n",
       "        }#T_6ae95b46_17e5_11ed_8c97_5405db013b35row2_col0{\n",
       "            background-color:  #fdb42f;\n",
       "            color:  #000000;\n",
       "        }#T_6ae95b46_17e5_11ed_8c97_5405db013b35row2_col1{\n",
       "            background-color:  #c03a83;\n",
       "            color:  #f1f1f1;\n",
       "        }#T_6ae95b46_17e5_11ed_8c97_5405db013b35row2_col3{\n",
       "            background-color:  #c43e7f;\n",
       "            color:  #f1f1f1;\n",
       "        }#T_6ae95b46_17e5_11ed_8c97_5405db013b35row2_col4{\n",
       "            background-color:  #e26660;\n",
       "            color:  #000000;\n",
       "        }#T_6ae95b46_17e5_11ed_8c97_5405db013b35row2_col5{\n",
       "            background-color:  #e26561;\n",
       "            color:  #000000;\n",
       "        }#T_6ae95b46_17e5_11ed_8c97_5405db013b35row2_col6{\n",
       "            background-color:  #e76e5b;\n",
       "            color:  #000000;\n",
       "        }#T_6ae95b46_17e5_11ed_8c97_5405db013b35row2_col7,#T_6ae95b46_17e5_11ed_8c97_5405db013b35row4_col0{\n",
       "            background-color:  #fba238;\n",
       "            color:  #000000;\n",
       "        }#T_6ae95b46_17e5_11ed_8c97_5405db013b35row2_col8{\n",
       "            background-color:  #fdab33;\n",
       "            color:  #000000;\n",
       "        }#T_6ae95b46_17e5_11ed_8c97_5405db013b35row3_col0,#T_6ae95b46_17e5_11ed_8c97_5405db013b35row3_col4,#T_6ae95b46_17e5_11ed_8c97_5405db013b35row3_col5{\n",
       "            background-color:  #aa2395;\n",
       "            color:  #f1f1f1;\n",
       "        }#T_6ae95b46_17e5_11ed_8c97_5405db013b35row3_col1{\n",
       "            background-color:  #fdb130;\n",
       "            color:  #000000;\n",
       "        }#T_6ae95b46_17e5_11ed_8c97_5405db013b35row3_col2{\n",
       "            background-color:  #ae2892;\n",
       "            color:  #f1f1f1;\n",
       "        }#T_6ae95b46_17e5_11ed_8c97_5405db013b35row3_col6{\n",
       "            background-color:  #b42e8d;\n",
       "            color:  #f1f1f1;\n",
       "        }#T_6ae95b46_17e5_11ed_8c97_5405db013b35row3_col7{\n",
       "            background-color:  #b52f8c;\n",
       "            color:  #f1f1f1;\n",
       "        }#T_6ae95b46_17e5_11ed_8c97_5405db013b35row3_col8,#T_6ae95b46_17e5_11ed_8c97_5405db013b35row7_col1{\n",
       "            background-color:  #b7318a;\n",
       "            color:  #f1f1f1;\n",
       "        }#T_6ae95b46_17e5_11ed_8c97_5405db013b35row4_col1,#T_6ae95b46_17e5_11ed_8c97_5405db013b35row4_col3,#T_6ae95b46_17e5_11ed_8c97_5405db013b35row5_col1,#T_6ae95b46_17e5_11ed_8c97_5405db013b35row5_col3{\n",
       "            background-color:  #cd4a76;\n",
       "            color:  #000000;\n",
       "        }#T_6ae95b46_17e5_11ed_8c97_5405db013b35row4_col2{\n",
       "            background-color:  #e97257;\n",
       "            color:  #000000;\n",
       "        }#T_6ae95b46_17e5_11ed_8c97_5405db013b35row4_col5,#T_6ae95b46_17e5_11ed_8c97_5405db013b35row5_col4{\n",
       "            background-color:  #fdae32;\n",
       "            color:  #000000;\n",
       "        }#T_6ae95b46_17e5_11ed_8c97_5405db013b35row4_col6{\n",
       "            background-color:  #dd5e66;\n",
       "            color:  #000000;\n",
       "        }#T_6ae95b46_17e5_11ed_8c97_5405db013b35row4_col7{\n",
       "            background-color:  #f58c46;\n",
       "            color:  #000000;\n",
       "        }#T_6ae95b46_17e5_11ed_8c97_5405db013b35row4_col8{\n",
       "            background-color:  #f79143;\n",
       "            color:  #000000;\n",
       "        }#T_6ae95b46_17e5_11ed_8c97_5405db013b35row5_col0,#T_6ae95b46_17e5_11ed_8c97_5405db013b35row6_col0{\n",
       "            background-color:  #fba139;\n",
       "            color:  #000000;\n",
       "        }#T_6ae95b46_17e5_11ed_8c97_5405db013b35row5_col2{\n",
       "            background-color:  #e97158;\n",
       "            color:  #000000;\n",
       "        }#T_6ae95b46_17e5_11ed_8c97_5405db013b35row5_col6{\n",
       "            background-color:  #de6164;\n",
       "            color:  #000000;\n",
       "        }#T_6ae95b46_17e5_11ed_8c97_5405db013b35row5_col8{\n",
       "            background-color:  #f79044;\n",
       "            color:  #000000;\n",
       "        }#T_6ae95b46_17e5_11ed_8c97_5405db013b35row6_col1{\n",
       "            background-color:  #c9447a;\n",
       "            color:  #f1f1f1;\n",
       "        }#T_6ae95b46_17e5_11ed_8c97_5405db013b35row6_col2{\n",
       "            background-color:  #eb7556;\n",
       "            color:  #000000;\n",
       "        }#T_6ae95b46_17e5_11ed_8c97_5405db013b35row6_col3{\n",
       "            background-color:  #cf4c74;\n",
       "            color:  #000000;\n",
       "        }#T_6ae95b46_17e5_11ed_8c97_5405db013b35row6_col4{\n",
       "            background-color:  #da5a6a;\n",
       "            color:  #000000;\n",
       "        }#T_6ae95b46_17e5_11ed_8c97_5405db013b35row6_col5{\n",
       "            background-color:  #da5b69;\n",
       "            color:  #000000;\n",
       "        }#T_6ae95b46_17e5_11ed_8c97_5405db013b35row6_col7{\n",
       "            background-color:  #f89441;\n",
       "            color:  #000000;\n",
       "        }#T_6ae95b46_17e5_11ed_8c97_5405db013b35row6_col8{\n",
       "            background-color:  #f79342;\n",
       "            color:  #000000;\n",
       "        }#T_6ae95b46_17e5_11ed_8c97_5405db013b35row7_col0{\n",
       "            background-color:  #fccd25;\n",
       "            color:  #000000;\n",
       "        }#T_6ae95b46_17e5_11ed_8c97_5405db013b35row7_col2{\n",
       "            background-color:  #fa9e3b;\n",
       "            color:  #000000;\n",
       "        }#T_6ae95b46_17e5_11ed_8c97_5405db013b35row7_col3{\n",
       "            background-color:  #c23c81;\n",
       "            color:  #f1f1f1;\n",
       "        }#T_6ae95b46_17e5_11ed_8c97_5405db013b35row7_col4{\n",
       "            background-color:  #ef7c51;\n",
       "            color:  #000000;\n",
       "        }#T_6ae95b46_17e5_11ed_8c97_5405db013b35row7_col5{\n",
       "            background-color:  #ed7a52;\n",
       "            color:  #000000;\n",
       "        }#T_6ae95b46_17e5_11ed_8c97_5405db013b35row7_col8{\n",
       "            background-color:  #fcd025;\n",
       "            color:  #000000;\n",
       "        }#T_6ae95b46_17e5_11ed_8c97_5405db013b35row8_col0,#T_6ae95b46_17e5_11ed_8c97_5405db013b35row8_col7{\n",
       "            background-color:  #fcd225;\n",
       "            color:  #000000;\n",
       "        }#T_6ae95b46_17e5_11ed_8c97_5405db013b35row8_col1{\n",
       "            background-color:  #ba3388;\n",
       "            color:  #f1f1f1;\n",
       "        }#T_6ae95b46_17e5_11ed_8c97_5405db013b35row8_col2{\n",
       "            background-color:  #fca835;\n",
       "            color:  #000000;\n",
       "        }#T_6ae95b46_17e5_11ed_8c97_5405db013b35row8_col3{\n",
       "            background-color:  #c5407e;\n",
       "            color:  #f1f1f1;\n",
       "        }#T_6ae95b46_17e5_11ed_8c97_5405db013b35row8_col4{\n",
       "            background-color:  #f2844b;\n",
       "            color:  #000000;\n",
       "        }#T_6ae95b46_17e5_11ed_8c97_5405db013b35row8_col5{\n",
       "            background-color:  #f1814d;\n",
       "            color:  #000000;\n",
       "        }#T_6ae95b46_17e5_11ed_8c97_5405db013b35row8_col6{\n",
       "            background-color:  #f48849;\n",
       "            color:  #000000;\n",
       "        }</style><table id=\"T_6ae95b46_17e5_11ed_8c97_5405db013b35\" ><thead>    <tr>        <th class=\"blank level0\" ></th>        <th class=\"col_heading level0 col0\" >Life expectancy</th>        <th class=\"col_heading level0 col1\" >Adult Mortality</th>        <th class=\"col_heading level0 col2\" >BMI</th>        <th class=\"col_heading level0 col3\" >HIV/AIDS</th>        <th class=\"col_heading level0 col4\" >Diphtheria</th>        <th class=\"col_heading level0 col5\" >Polio</th>        <th class=\"col_heading level0 col6\" >GDP</th>        <th class=\"col_heading level0 col7\" >Income composition of resources</th>        <th class=\"col_heading level0 col8\" >Schooling</th>    </tr></thead><tbody>\n",
       "                <tr>\n",
       "                        <th id=\"T_6ae95b46_17e5_11ed_8c97_5405db013b35level0_row0\" class=\"row_heading level0 row0\" >Life expectancy</th>\n",
       "                        <td id=\"T_6ae95b46_17e5_11ed_8c97_5405db013b35row0_col0\" class=\"data row0 col0\" >1.000000</td>\n",
       "                        <td id=\"T_6ae95b46_17e5_11ed_8c97_5405db013b35row0_col1\" class=\"data row0 col1\" >-0.680039</td>\n",
       "                        <td id=\"T_6ae95b46_17e5_11ed_8c97_5405db013b35row0_col2\" class=\"data row0 col2\" >0.579843</td>\n",
       "                        <td id=\"T_6ae95b46_17e5_11ed_8c97_5405db013b35row0_col3\" class=\"data row0 col3\" >-0.573809</td>\n",
       "                        <td id=\"T_6ae95b46_17e5_11ed_8c97_5405db013b35row0_col4\" class=\"data row0 col4\" >0.460227</td>\n",
       "                        <td id=\"T_6ae95b46_17e5_11ed_8c97_5405db013b35row0_col5\" class=\"data row0 col5\" >0.454672</td>\n",
       "                        <td id=\"T_6ae95b46_17e5_11ed_8c97_5405db013b35row0_col6\" class=\"data row0 col6\" >0.452266</td>\n",
       "                        <td id=\"T_6ae95b46_17e5_11ed_8c97_5405db013b35row0_col7\" class=\"data row0 col7\" >0.735329</td>\n",
       "                        <td id=\"T_6ae95b46_17e5_11ed_8c97_5405db013b35row0_col8\" class=\"data row0 col8\" >0.765111</td>\n",
       "            </tr>\n",
       "            <tr>\n",
       "                        <th id=\"T_6ae95b46_17e5_11ed_8c97_5405db013b35level0_row1\" class=\"row_heading level0 row1\" >Adult Mortality</th>\n",
       "                        <td id=\"T_6ae95b46_17e5_11ed_8c97_5405db013b35row1_col0\" class=\"data row1 col0\" >-0.680039</td>\n",
       "                        <td id=\"T_6ae95b46_17e5_11ed_8c97_5405db013b35row1_col1\" class=\"data row1 col1\" >1.000000</td>\n",
       "                        <td id=\"T_6ae95b46_17e5_11ed_8c97_5405db013b35row1_col2\" class=\"data row1 col2\" >-0.373460</td>\n",
       "                        <td id=\"T_6ae95b46_17e5_11ed_8c97_5405db013b35row1_col3\" class=\"data row1 col3\" >0.558935</td>\n",
       "                        <td id=\"T_6ae95b46_17e5_11ed_8c97_5405db013b35row1_col4\" class=\"data row1 col4\" >-0.235285</td>\n",
       "                        <td id=\"T_6ae95b46_17e5_11ed_8c97_5405db013b35row1_col5\" class=\"data row1 col5\" >-0.235386</td>\n",
       "                        <td id=\"T_6ae95b46_17e5_11ed_8c97_5405db013b35row1_col6\" class=\"data row1 col6\" >-0.287016</td>\n",
       "                        <td id=\"T_6ae95b46_17e5_11ed_8c97_5405db013b35row1_col7\" class=\"data row1 col7\" >-0.447513</td>\n",
       "                        <td id=\"T_6ae95b46_17e5_11ed_8c97_5405db013b35row1_col8\" class=\"data row1 col8\" >-0.435558</td>\n",
       "            </tr>\n",
       "            <tr>\n",
       "                        <th id=\"T_6ae95b46_17e5_11ed_8c97_5405db013b35level0_row2\" class=\"row_heading level0 row2\" >BMI</th>\n",
       "                        <td id=\"T_6ae95b46_17e5_11ed_8c97_5405db013b35row2_col0\" class=\"data row2 col0\" >0.579843</td>\n",
       "                        <td id=\"T_6ae95b46_17e5_11ed_8c97_5405db013b35row2_col1\" class=\"data row2 col1\" >-0.373460</td>\n",
       "                        <td id=\"T_6ae95b46_17e5_11ed_8c97_5405db013b35row2_col2\" class=\"data row2 col2\" >1.000000</td>\n",
       "                        <td id=\"T_6ae95b46_17e5_11ed_8c97_5405db013b35row2_col3\" class=\"data row2 col3\" >-0.249146</td>\n",
       "                        <td id=\"T_6ae95b46_17e5_11ed_8c97_5405db013b35row2_col4\" class=\"data row2 col4\" >0.270032</td>\n",
       "                        <td id=\"T_6ae95b46_17e5_11ed_8c97_5405db013b35row2_col5\" class=\"data row2 col5\" >0.262376</td>\n",
       "                        <td id=\"T_6ae95b46_17e5_11ed_8c97_5405db013b35row2_col6\" class=\"data row2 col6\" >0.286214</td>\n",
       "                        <td id=\"T_6ae95b46_17e5_11ed_8c97_5405db013b35row2_col7\" class=\"data row2 col7\" >0.536440</td>\n",
       "                        <td id=\"T_6ae95b46_17e5_11ed_8c97_5405db013b35row2_col8\" class=\"data row2 col8\" >0.590213</td>\n",
       "            </tr>\n",
       "            <tr>\n",
       "                        <th id=\"T_6ae95b46_17e5_11ed_8c97_5405db013b35level0_row3\" class=\"row_heading level0 row3\" >HIV/AIDS</th>\n",
       "                        <td id=\"T_6ae95b46_17e5_11ed_8c97_5405db013b35row3_col0\" class=\"data row3 col0\" >-0.573809</td>\n",
       "                        <td id=\"T_6ae95b46_17e5_11ed_8c97_5405db013b35row3_col1\" class=\"data row3 col1\" >0.558935</td>\n",
       "                        <td id=\"T_6ae95b46_17e5_11ed_8c97_5405db013b35row3_col2\" class=\"data row3 col2\" >-0.249146</td>\n",
       "                        <td id=\"T_6ae95b46_17e5_11ed_8c97_5405db013b35row3_col3\" class=\"data row3 col3\" >1.000000</td>\n",
       "                        <td id=\"T_6ae95b46_17e5_11ed_8c97_5405db013b35row3_col4\" class=\"data row3 col4\" >-0.156163</td>\n",
       "                        <td id=\"T_6ae95b46_17e5_11ed_8c97_5405db013b35row3_col5\" class=\"data row3 col5\" >-0.156732</td>\n",
       "                        <td id=\"T_6ae95b46_17e5_11ed_8c97_5405db013b35row3_col6\" class=\"data row3 col6\" >-0.134290</td>\n",
       "                        <td id=\"T_6ae95b46_17e5_11ed_8c97_5405db013b35row3_col7\" class=\"data row3 col7\" >-0.264786</td>\n",
       "                        <td id=\"T_6ae95b46_17e5_11ed_8c97_5405db013b35row3_col8\" class=\"data row3 col8\" >-0.239596</td>\n",
       "            </tr>\n",
       "            <tr>\n",
       "                        <th id=\"T_6ae95b46_17e5_11ed_8c97_5405db013b35level0_row4\" class=\"row_heading level0 row4\" >Diphtheria</th>\n",
       "                        <td id=\"T_6ae95b46_17e5_11ed_8c97_5405db013b35row4_col0\" class=\"data row4 col0\" >0.460227</td>\n",
       "                        <td id=\"T_6ae95b46_17e5_11ed_8c97_5405db013b35row4_col1\" class=\"data row4 col1\" >-0.235285</td>\n",
       "                        <td id=\"T_6ae95b46_17e5_11ed_8c97_5405db013b35row4_col2\" class=\"data row4 col2\" >0.270032</td>\n",
       "                        <td id=\"T_6ae95b46_17e5_11ed_8c97_5405db013b35row4_col3\" class=\"data row4 col3\" >-0.156163</td>\n",
       "                        <td id=\"T_6ae95b46_17e5_11ed_8c97_5405db013b35row4_col4\" class=\"data row4 col4\" >1.000000</td>\n",
       "                        <td id=\"T_6ae95b46_17e5_11ed_8c97_5405db013b35row4_col5\" class=\"data row4 col5\" >0.660510</td>\n",
       "                        <td id=\"T_6ae95b46_17e5_11ed_8c97_5405db013b35row4_col6\" class=\"data row4 col6\" >0.191819</td>\n",
       "                        <td id=\"T_6ae95b46_17e5_11ed_8c97_5405db013b35row4_col7\" class=\"data row4 col7\" >0.406000</td>\n",
       "                        <td id=\"T_6ae95b46_17e5_11ed_8c97_5405db013b35row4_col8\" class=\"data row4 col8\" >0.442732</td>\n",
       "            </tr>\n",
       "            <tr>\n",
       "                        <th id=\"T_6ae95b46_17e5_11ed_8c97_5405db013b35level0_row5\" class=\"row_heading level0 row5\" >Polio</th>\n",
       "                        <td id=\"T_6ae95b46_17e5_11ed_8c97_5405db013b35row5_col0\" class=\"data row5 col0\" >0.454672</td>\n",
       "                        <td id=\"T_6ae95b46_17e5_11ed_8c97_5405db013b35row5_col1\" class=\"data row5 col1\" >-0.235386</td>\n",
       "                        <td id=\"T_6ae95b46_17e5_11ed_8c97_5405db013b35row5_col2\" class=\"data row5 col2\" >0.262376</td>\n",
       "                        <td id=\"T_6ae95b46_17e5_11ed_8c97_5405db013b35row5_col3\" class=\"data row5 col3\" >-0.156732</td>\n",
       "                        <td id=\"T_6ae95b46_17e5_11ed_8c97_5405db013b35row5_col4\" class=\"data row5 col4\" >0.660510</td>\n",
       "                        <td id=\"T_6ae95b46_17e5_11ed_8c97_5405db013b35row5_col5\" class=\"data row5 col5\" >1.000000</td>\n",
       "                        <td id=\"T_6ae95b46_17e5_11ed_8c97_5405db013b35row5_col6\" class=\"data row5 col6\" >0.202257</td>\n",
       "                        <td id=\"T_6ae95b46_17e5_11ed_8c97_5405db013b35row5_col7\" class=\"data row5 col7\" >0.385762</td>\n",
       "                        <td id=\"T_6ae95b46_17e5_11ed_8c97_5405db013b35row5_col8\" class=\"data row5 col8\" >0.434624</td>\n",
       "            </tr>\n",
       "            <tr>\n",
       "                        <th id=\"T_6ae95b46_17e5_11ed_8c97_5405db013b35level0_row6\" class=\"row_heading level0 row6\" >GDP</th>\n",
       "                        <td id=\"T_6ae95b46_17e5_11ed_8c97_5405db013b35row6_col0\" class=\"data row6 col0\" >0.452266</td>\n",
       "                        <td id=\"T_6ae95b46_17e5_11ed_8c97_5405db013b35row6_col1\" class=\"data row6 col1\" >-0.287016</td>\n",
       "                        <td id=\"T_6ae95b46_17e5_11ed_8c97_5405db013b35row6_col2\" class=\"data row6 col2\" >0.286214</td>\n",
       "                        <td id=\"T_6ae95b46_17e5_11ed_8c97_5405db013b35row6_col3\" class=\"data row6 col3\" >-0.134290</td>\n",
       "                        <td id=\"T_6ae95b46_17e5_11ed_8c97_5405db013b35row6_col4\" class=\"data row6 col4\" >0.191819</td>\n",
       "                        <td id=\"T_6ae95b46_17e5_11ed_8c97_5405db013b35row6_col5\" class=\"data row6 col5\" >0.202257</td>\n",
       "                        <td id=\"T_6ae95b46_17e5_11ed_8c97_5405db013b35row6_col6\" class=\"data row6 col6\" >1.000000</td>\n",
       "                        <td id=\"T_6ae95b46_17e5_11ed_8c97_5405db013b35row6_col7\" class=\"data row6 col7\" >0.456435</td>\n",
       "                        <td id=\"T_6ae95b46_17e5_11ed_8c97_5405db013b35row6_col8\" class=\"data row6 col8\" >0.449135</td>\n",
       "            </tr>\n",
       "            <tr>\n",
       "                        <th id=\"T_6ae95b46_17e5_11ed_8c97_5405db013b35level0_row7\" class=\"row_heading level0 row7\" >Income composition of resources</th>\n",
       "                        <td id=\"T_6ae95b46_17e5_11ed_8c97_5405db013b35row7_col0\" class=\"data row7 col0\" >0.735329</td>\n",
       "                        <td id=\"T_6ae95b46_17e5_11ed_8c97_5405db013b35row7_col1\" class=\"data row7 col1\" >-0.447513</td>\n",
       "                        <td id=\"T_6ae95b46_17e5_11ed_8c97_5405db013b35row7_col2\" class=\"data row7 col2\" >0.536440</td>\n",
       "                        <td id=\"T_6ae95b46_17e5_11ed_8c97_5405db013b35row7_col3\" class=\"data row7 col3\" >-0.264786</td>\n",
       "                        <td id=\"T_6ae95b46_17e5_11ed_8c97_5405db013b35row7_col4\" class=\"data row7 col4\" >0.406000</td>\n",
       "                        <td id=\"T_6ae95b46_17e5_11ed_8c97_5405db013b35row7_col5\" class=\"data row7 col5\" >0.385762</td>\n",
       "                        <td id=\"T_6ae95b46_17e5_11ed_8c97_5405db013b35row7_col6\" class=\"data row7 col6\" >0.456435</td>\n",
       "                        <td id=\"T_6ae95b46_17e5_11ed_8c97_5405db013b35row7_col7\" class=\"data row7 col7\" >1.000000</td>\n",
       "                        <td id=\"T_6ae95b46_17e5_11ed_8c97_5405db013b35row7_col8\" class=\"data row7 col8\" >0.797092</td>\n",
       "            </tr>\n",
       "            <tr>\n",
       "                        <th id=\"T_6ae95b46_17e5_11ed_8c97_5405db013b35level0_row8\" class=\"row_heading level0 row8\" >Schooling</th>\n",
       "                        <td id=\"T_6ae95b46_17e5_11ed_8c97_5405db013b35row8_col0\" class=\"data row8 col0\" >0.765111</td>\n",
       "                        <td id=\"T_6ae95b46_17e5_11ed_8c97_5405db013b35row8_col1\" class=\"data row8 col1\" >-0.435558</td>\n",
       "                        <td id=\"T_6ae95b46_17e5_11ed_8c97_5405db013b35row8_col2\" class=\"data row8 col2\" >0.590213</td>\n",
       "                        <td id=\"T_6ae95b46_17e5_11ed_8c97_5405db013b35row8_col3\" class=\"data row8 col3\" >-0.239596</td>\n",
       "                        <td id=\"T_6ae95b46_17e5_11ed_8c97_5405db013b35row8_col4\" class=\"data row8 col4\" >0.442732</td>\n",
       "                        <td id=\"T_6ae95b46_17e5_11ed_8c97_5405db013b35row8_col5\" class=\"data row8 col5\" >0.434624</td>\n",
       "                        <td id=\"T_6ae95b46_17e5_11ed_8c97_5405db013b35row8_col6\" class=\"data row8 col6\" >0.449135</td>\n",
       "                        <td id=\"T_6ae95b46_17e5_11ed_8c97_5405db013b35row8_col7\" class=\"data row8 col7\" >0.797092</td>\n",
       "                        <td id=\"T_6ae95b46_17e5_11ed_8c97_5405db013b35row8_col8\" class=\"data row8 col8\" >1.000000</td>\n",
       "            </tr>\n",
       "    </tbody></table>"
      ],
      "text/plain": [
       "<pandas.io.formats.style.Styler at 0x204059a65b0>"
      ]
     },
     "execution_count": 9,
     "metadata": {},
     "output_type": "execute_result"
    }
   ],
   "source": [
    "corrMatrix = train.corr()\n",
    "corrMatrix.style.background_gradient(cmap='plasma', low=.5, high=0).highlight_null('red')"
   ]
  },
  {
   "cell_type": "code",
   "execution_count": 10,
   "id": "quiet-frame",
   "metadata": {},
   "outputs": [
    {
     "data": {
      "image/png": "[encoded data removed]",
      "text/plain": [
       "<Figure size 720x720 with 2 Axes>"
      ]
     },
     "metadata": {
      "needs_background": "light"
     },
     "output_type": "display_data"
    }
   ],
   "source": [
    "def correlation_heatmap(train):\n",
    "    correlations = train.corr()\n",
    "\n",
    "    fig, ax = plt.subplots(figsize=(10,10))\n",
    "    sns.heatmap(correlations, vmax=1.0, center=0, fmt='.2f',\n",
    "                square=True, linewidths=.5, annot=True, cbar_kws={\"shrink\": .70})\n",
    "    plt.show();\n",
    "    \n",
    "correlation_heatmap(train)"
   ]
  },
  {
   "cell_type": "code",
   "execution_count": 11,
   "id": "turned-ivory",
   "metadata": {},
   "outputs": [
    {
     "data": {
      "text/plain": [
       "Index(['Status', 'Life expectancy', 'Adult Mortality', 'BMI', 'HIV/AIDS',\n",
       "       'Diphtheria', 'Polio', 'GDP', 'Income composition of resources',\n",
       "       'Schooling'],\n",
       "      dtype='object')"
      ]
     },
     "execution_count": 11,
     "metadata": {},
     "output_type": "execute_result"
    }
   ],
   "source": [
    "train.columns"
   ]
  },
  {
   "cell_type": "code",
   "execution_count": 12,
   "id": "domestic-ownership",
   "metadata": {},
   "outputs": [
    {
     "data": {
      "text/plain": [
       "Developing    1432\n",
       "Developed      332\n",
       "Name: Status, dtype: int64"
      ]
     },
     "execution_count": 12,
     "metadata": {},
     "output_type": "execute_result"
    }
   ],
   "source": [
    "train['Status'].value_counts()"
   ]
  },
  {
   "cell_type": "code",
   "execution_count": 13,
   "id": "changing-revolution",
   "metadata": {},
   "outputs": [
    {
     "data": {
      "image/png": "[encoded data removed]",
      "text/plain": [
       "<Figure size 1440x2160 with 9 Axes>"
      ]
     },
     "metadata": {
      "needs_background": "light"
     },
     "output_type": "display_data"
    }
   ],
   "source": [
    "col=['Life expectancy', 'Adult Mortality', 'BMI', 'HIV/AIDS',\n",
    "       'Diphtheria', 'Polio', 'GDP', 'Income composition of resources',\n",
    "       'Schooling']\n",
    "\n",
    "dic={}\n",
    "\n",
    "for i in range(len(col)):\n",
    "    dic[col[i]]=i+1\n",
    "\n",
    "plt.figure(figsize=(20,30))\n",
    "\n",
    "for key,val in dic.items():\n",
    "    plt.subplot(5,5,val)\n",
    "    sns.histplot(x=train[key],data=train,bins=10,kde=True)\n",
    "    plt.xlabel(key)\n",
    "    plt.title(key+' Distribution')\n",
    "\n",
    "plt.show()"
   ]
  },
  {
   "cell_type": "markdown",
   "id": "hungry-direction",
   "metadata": {},
   "source": [
    "## outliers "
   ]
  },
  {
   "cell_type": "code",
   "execution_count": 14,
   "id": "premier-precipitation",
   "metadata": {},
   "outputs": [
    {
     "name": "stdout",
     "output_type": "stream",
     "text": [
      "---------------Life expectancy---------------\n",
      "Number of outliers: 13\n",
      "Percent of data that is outlier: 0.74%\n",
      "---------------Adult Mortality---------------\n",
      "Number of outliers: 57\n",
      "Percent of data that is outlier: 3.23%\n",
      "---------------BMI---------------\n",
      "Number of outliers: 0\n",
      "Percent of data that is outlier: 0.0%\n",
      "---------------HIV/AIDS---------------\n",
      "Number of outliers: 325\n",
      "Percent of data that is outlier: 18.42%\n",
      "---------------Diphtheria---------------\n",
      "Number of outliers: 181\n",
      "Percent of data that is outlier: 10.26%\n",
      "---------------Polio---------------\n",
      "Number of outliers: 156\n",
      "Percent of data that is outlier: 8.84%\n",
      "---------------GDP---------------\n",
      "Number of outliers: 258\n",
      "Percent of data that is outlier: 14.63%\n",
      "---------------Income composition of resources---------------\n",
      "Number of outliers: 73\n",
      "Percent of data that is outlier: 4.14%\n",
      "---------------Schooling---------------\n",
      "Number of outliers: 19\n",
      "Percent of data that is outlier: 1.08%\n"
     ]
    }
   ],
   "source": [
    "#printing out the number of outliers and its percentage\n",
    "\n",
    "def outlier_count(col, data=train):\n",
    "    print(15*'-' + col + 15*'-')\n",
    "    q75, q25 = np.percentile(data[col], [75, 25])\n",
    "    iqr = q75 - q25\n",
    "    min_val = q25 - (iqr*1.5)\n",
    "    max_val = q75 + (iqr*1.5)\n",
    "    outlier_count = len(np.where((data[col] > max_val) | (data[col] < min_val))[0])\n",
    "    outlier_percent = round(outlier_count/len(data[col])*100, 2)\n",
    "    print('Number of outliers: {}'.format(outlier_count))\n",
    "    print('Percent of data that is outlier: {}%'.format(outlier_percent))\n",
    "\n",
    "for col in col:\n",
    "    outlier_count(col)"
   ]
  },
  {
   "cell_type": "code",
   "execution_count": 15,
   "id": "measured-newspaper",
   "metadata": {},
   "outputs": [],
   "source": [
    "#renaming the columns \n",
    "train.rename(columns={\"Life expectancy\":\"Life_Expectancy\",\"Adult Mortality\":\"Adult_Mortality\",\n",
    "                   \"Income composition of resources\":\"Income_Comp_Of_Resources\"},inplace=True)\n",
    "# train.columns"
   ]
  },
  {
   "cell_type": "code",
   "execution_count": 16,
   "id": "green-harbor",
   "metadata": {},
   "outputs": [
    {
     "data": {
      "image/png": "[encoded data removed]",
      "text/plain": [
       "<Figure size 1080x1080 with 5 Axes>"
      ]
     },
     "metadata": {
      "needs_background": "light"
     },
     "output_type": "display_data"
    }
   ],
   "source": [
    "#checking outliers in the dataset \n",
    "col_dict = {'Life_Expectancy':1,'Adult_Mortality':2,'Polio':3,'HIV/AIDS':4,'Income_Comp_Of_Resources':5}\n",
    "\n",
    "# Detect outliers in each variable using box plots.\n",
    "plt.figure(figsize=(15,15))\n",
    "\n",
    "for variable,i in col_dict.items():\n",
    "                     plt.subplot(5,4,i)\n",
    "                     plt.boxplot(train[variable],whis=1.5)\n",
    "                     plt.title(variable)\n",
    "\n",
    "plt.show()"
   ]
  },
  {
   "cell_type": "code",
   "execution_count": 17,
   "id": "stuck-waterproof",
   "metadata": {},
   "outputs": [],
   "source": [
    "features_with_outliers = [ 'Life_Expectancy', 'Adult_Mortality', 'BMI', 'HIV/AIDS',\n",
    "       'Diphtheria', 'Polio', 'GDP', 'Income_Comp_Of_Resources', 'Schooling']\n",
    "for feature in features_with_outliers:\n",
    "    q1 = train[feature].quantile(0.25)#the median of the lower half \n",
    "    q3 = train[feature].quantile(0.75)#the median of the upper half \n",
    "    IQR = q3-q1#interquartile range\n",
    "    lower_limit = q1 - (IQR*1.5)\n",
    "    upper_limit = q3 + (IQR*1.5)\n",
    "    train.loc[train[feature]<lower_limit,feature] = lower_limit\n",
    "    train.loc[train[feature]>upper_limit,feature] = upper_limit"
   ]
  },
  {
   "cell_type": "code",
   "execution_count": 18,
   "id": "published-defense",
   "metadata": {},
   "outputs": [
    {
     "data": {
      "image/png": "[encoded data removed]",
      "text/plain": [
       "<Figure size 1080x1080 with 5 Axes>"
      ]
     },
     "metadata": {
      "needs_background": "light"
     },
     "output_type": "display_data"
    }
   ],
   "source": [
    "col_dict = {'Life_Expectancy':1,'Adult_Mortality':2,'Polio':3,'HIV/AIDS':4,'Income_Comp_Of_Resources':5}\n",
    "\n",
    "# Detect outliers in each variable using box plots.\n",
    "plt.figure(figsize=(15,15))\n",
    "\n",
    "for variable,i in col_dict.items():\n",
    "                     plt.subplot(5,4,i)\n",
    "                     plt.boxplot(train[variable],whis=1.5)\n",
    "                     plt.title(variable)\n",
    "\n",
    "plt.show()"
   ]
  },
  {
   "cell_type": "code",
   "execution_count": 19,
   "id": "personal-message",
   "metadata": {},
   "outputs": [],
   "source": [
    "from sklearn.preprocessing import LabelEncoder\n",
    "labelencoder = LabelEncoder()\n",
    "train['Status'] = labelencoder.fit_transform(train['Status'])\n",
    "train['Life_Expectancy'] = np.where(train['Life_Expectancy']>=65, True, False)"
   ]
  },
  {
   "cell_type": "code",
   "execution_count": 20,
   "id": "critical-morning",
   "metadata": {},
   "outputs": [],
   "source": [
    "y = train.pop('Life_Expectancy')\n",
    "X = train"
   ]
  },
  {
   "cell_type": "code",
   "execution_count": 21,
   "id": "personal-ticket",
   "metadata": {},
   "outputs": [
    {
     "data": {
      "text/html": [
       "<div>\n",
       "<style scoped>\n",
       "    .dataframe tbody tr th:only-of-type {\n",
       "        vertical-align: middle;\n",
       "    }\n",
       "\n",
       "    .dataframe tbody tr th {\n",
       "        vertical-align: top;\n",
       "    }\n",
       "\n",
       "    .dataframe thead th {\n",
       "        text-align: right;\n",
       "    }\n",
       "</style>\n",
       "<table border=\"1\" class=\"dataframe\">\n",
       "  <thead>\n",
       "    <tr style=\"text-align: right;\">\n",
       "      <th></th>\n",
       "      <th>Status</th>\n",
       "      <th>Adult_Mortality</th>\n",
       "      <th>BMI</th>\n",
       "      <th>HIV/AIDS</th>\n",
       "      <th>Diphtheria</th>\n",
       "      <th>Polio</th>\n",
       "      <th>GDP</th>\n",
       "      <th>Income_Comp_Of_Resources</th>\n",
       "      <th>Schooling</th>\n",
       "    </tr>\n",
       "  </thead>\n",
       "  <tbody>\n",
       "    <tr>\n",
       "      <th>0</th>\n",
       "      <td>1</td>\n",
       "      <td>127.0</td>\n",
       "      <td>43.0</td>\n",
       "      <td>0.90</td>\n",
       "      <td>93.0</td>\n",
       "      <td>86.0</td>\n",
       "      <td>11568.111100</td>\n",
       "      <td>0.741</td>\n",
       "      <td>14.0</td>\n",
       "    </tr>\n",
       "    <tr>\n",
       "      <th>1</th>\n",
       "      <td>1</td>\n",
       "      <td>436.0</td>\n",
       "      <td>33.7</td>\n",
       "      <td>1.85</td>\n",
       "      <td>96.0</td>\n",
       "      <td>96.0</td>\n",
       "      <td>5714.479370</td>\n",
       "      <td>0.630</td>\n",
       "      <td>12.1</td>\n",
       "    </tr>\n",
       "    <tr>\n",
       "      <th>2</th>\n",
       "      <td>1</td>\n",
       "      <td>241.0</td>\n",
       "      <td>35.0</td>\n",
       "      <td>1.85</td>\n",
       "      <td>84.0</td>\n",
       "      <td>84.0</td>\n",
       "      <td>1862.167274</td>\n",
       "      <td>0.470</td>\n",
       "      <td>6.3</td>\n",
       "    </tr>\n",
       "    <tr>\n",
       "      <th>3</th>\n",
       "      <td>0</td>\n",
       "      <td>85.0</td>\n",
       "      <td>57.5</td>\n",
       "      <td>0.10</td>\n",
       "      <td>99.0</td>\n",
       "      <td>99.0</td>\n",
       "      <td>14128.410061</td>\n",
       "      <td>0.880</td>\n",
       "      <td>13.5</td>\n",
       "    </tr>\n",
       "    <tr>\n",
       "      <th>4</th>\n",
       "      <td>1</td>\n",
       "      <td>14.0</td>\n",
       "      <td>55.0</td>\n",
       "      <td>0.10</td>\n",
       "      <td>94.0</td>\n",
       "      <td>94.0</td>\n",
       "      <td>3161.529350</td>\n",
       "      <td>0.798</td>\n",
       "      <td>12.0</td>\n",
       "    </tr>\n",
       "    <tr>\n",
       "      <th>...</th>\n",
       "      <td>...</td>\n",
       "      <td>...</td>\n",
       "      <td>...</td>\n",
       "      <td>...</td>\n",
       "      <td>...</td>\n",
       "      <td>...</td>\n",
       "      <td>...</td>\n",
       "      <td>...</td>\n",
       "      <td>...</td>\n",
       "    </tr>\n",
       "    <tr>\n",
       "      <th>1759</th>\n",
       "      <td>1</td>\n",
       "      <td>111.0</td>\n",
       "      <td>49.2</td>\n",
       "      <td>0.10</td>\n",
       "      <td>85.0</td>\n",
       "      <td>85.0</td>\n",
       "      <td>1657.322800</td>\n",
       "      <td>0.775</td>\n",
       "      <td>15.3</td>\n",
       "    </tr>\n",
       "    <tr>\n",
       "      <th>1760</th>\n",
       "      <td>1</td>\n",
       "      <td>247.0</td>\n",
       "      <td>18.9</td>\n",
       "      <td>1.30</td>\n",
       "      <td>97.0</td>\n",
       "      <td>93.0</td>\n",
       "      <td>617.317648</td>\n",
       "      <td>0.464</td>\n",
       "      <td>10.2</td>\n",
       "    </tr>\n",
       "    <tr>\n",
       "      <th>1761</th>\n",
       "      <td>1</td>\n",
       "      <td>28.0</td>\n",
       "      <td>48.2</td>\n",
       "      <td>1.85</td>\n",
       "      <td>87.0</td>\n",
       "      <td>86.0</td>\n",
       "      <td>3681.599300</td>\n",
       "      <td>0.668</td>\n",
       "      <td>12.6</td>\n",
       "    </tr>\n",
       "    <tr>\n",
       "      <th>1762</th>\n",
       "      <td>0</td>\n",
       "      <td>82.0</td>\n",
       "      <td>57.9</td>\n",
       "      <td>0.10</td>\n",
       "      <td>99.0</td>\n",
       "      <td>96.0</td>\n",
       "      <td>1618.492800</td>\n",
       "      <td>0.877</td>\n",
       "      <td>13.5</td>\n",
       "    </tr>\n",
       "    <tr>\n",
       "      <th>1763</th>\n",
       "      <td>1</td>\n",
       "      <td>81.0</td>\n",
       "      <td>2.3</td>\n",
       "      <td>0.10</td>\n",
       "      <td>98.0</td>\n",
       "      <td>98.0</td>\n",
       "      <td>5828.621374</td>\n",
       "      <td>0.641</td>\n",
       "      <td>11.8</td>\n",
       "    </tr>\n",
       "  </tbody>\n",
       "</table>\n",
       "<p>1764 rows × 9 columns</p>\n",
       "</div>"
      ],
      "text/plain": [
       "      Status  Adult_Mortality   BMI  HIV/AIDS  Diphtheria  Polio  \\\n",
       "0          1            127.0  43.0      0.90        93.0   86.0   \n",
       "1          1            436.0  33.7      1.85        96.0   96.0   \n",
       "2          1            241.0  35.0      1.85        84.0   84.0   \n",
       "3          0             85.0  57.5      0.10        99.0   99.0   \n",
       "4          1             14.0  55.0      0.10        94.0   94.0   \n",
       "...      ...              ...   ...       ...         ...    ...   \n",
       "1759       1            111.0  49.2      0.10        85.0   85.0   \n",
       "1760       1            247.0  18.9      1.30        97.0   93.0   \n",
       "1761       1             28.0  48.2      1.85        87.0   86.0   \n",
       "1762       0             82.0  57.9      0.10        99.0   96.0   \n",
       "1763       1             81.0   2.3      0.10        98.0   98.0   \n",
       "\n",
       "               GDP  Income_Comp_Of_Resources  Schooling  \n",
       "0     11568.111100                     0.741       14.0  \n",
       "1      5714.479370                     0.630       12.1  \n",
       "2      1862.167274                     0.470        6.3  \n",
       "3     14128.410061                     0.880       13.5  \n",
       "4      3161.529350                     0.798       12.0  \n",
       "...            ...                       ...        ...  \n",
       "1759   1657.322800                     0.775       15.3  \n",
       "1760    617.317648                     0.464       10.2  \n",
       "1761   3681.599300                     0.668       12.6  \n",
       "1762   1618.492800                     0.877       13.5  \n",
       "1763   5828.621374                     0.641       11.8  \n",
       "\n",
       "[1764 rows x 9 columns]"
      ]
     },
     "execution_count": 21,
     "metadata": {},
     "output_type": "execute_result"
    }
   ],
   "source": [
    "X"
   ]
  },
  {
   "cell_type": "code",
   "execution_count": 26,
   "id": "novel-mount",
   "metadata": {},
   "outputs": [],
   "source": [
    "from sklearn.model_selection import train_test_split\n",
    "x_train, x_test, y_train, y_test = train_test_split(X, y, test_size = 0.20, random_state= 42)\n",
    "\n",
    "from sklearn.preprocessing import StandardScaler\n",
    "sc = StandardScaler()\n",
    "x_train = sc.fit_transform(x_train)\n",
    "x_test = sc.transform(x_test)\n",
    "\n",
    "lm = LogisticRegression()\n",
    "model = lm.fit(x_train,y_train)\n",
    "y_pred=lm.predict(x_test)"
   ]
  },
  {
   "cell_type": "code",
   "execution_count": 27,
   "id": "retained-mailman",
   "metadata": {},
   "outputs": [
    {
     "name": "stdout",
     "output_type": "stream",
     "text": [
      "Logistic Regression model accuracy(in %): 94.61756373937678\n"
     ]
    }
   ],
   "source": [
    "print(\"Logistic Regression model accuracy(in %):\",accuracy_score(y_test, y_pred)*100)"
   ]
  },
  {
   "cell_type": "code",
   "execution_count": 29,
   "id": "daily-spirituality",
   "metadata": {},
   "outputs": [
    {
     "data": {
      "text/html": [
       "<div>\n",
       "<style scoped>\n",
       "    .dataframe tbody tr th:only-of-type {\n",
       "        vertical-align: middle;\n",
       "    }\n",
       "\n",
       "    .dataframe tbody tr th {\n",
       "        vertical-align: top;\n",
       "    }\n",
       "\n",
       "    .dataframe thead th {\n",
       "        text-align: right;\n",
       "    }\n",
       "</style>\n",
       "<table border=\"1\" class=\"dataframe\">\n",
       "  <thead>\n",
       "    <tr style=\"text-align: right;\">\n",
       "      <th></th>\n",
       "      <th>Predicted Negative</th>\n",
       "      <th>Predicted Positive</th>\n",
       "    </tr>\n",
       "  </thead>\n",
       "  <tbody>\n",
       "    <tr>\n",
       "      <th>Actual Negative</th>\n",
       "      <td>79</td>\n",
       "      <td>14</td>\n",
       "    </tr>\n",
       "    <tr>\n",
       "      <th>Actual Positive</th>\n",
       "      <td>5</td>\n",
       "      <td>255</td>\n",
       "    </tr>\n",
       "  </tbody>\n",
       "</table>\n",
       "</div>"
      ],
      "text/plain": [
       "                 Predicted Negative  Predicted Positive\n",
       "Actual Negative                  79                  14\n",
       "Actual Positive                   5                 255"
      ]
     },
     "execution_count": 29,
     "metadata": {},
     "output_type": "execute_result"
    }
   ],
   "source": [
    "Conf_matrix = pd.DataFrame(confusion_matrix(y_test, y_pred), columns = ['Predicted Negative', 'Predicted Positive',], index = ['Actual Negative', 'Actual Positive'])\n",
    "Conf_matrix"
   ]
  },
  {
   "cell_type": "code",
   "execution_count": 79,
   "id": "breathing-posting",
   "metadata": {},
   "outputs": [
    {
     "name": "stdout",
     "output_type": "stream",
     "text": [
      "Accuracy of LG is =  0.933380581148122\n",
      "ROC of LG is =  0.9043631100082713\n"
     ]
    }
   ],
   "source": [
    "print(\"Accuracy of LG is = \",lm.score(x_train,y_train))\n",
    "print(\"ROC of LG is = \",roc_auc_score(y_test, y_pred))"
   ]
  },
  {
   "cell_type": "code",
   "execution_count": 80,
   "id": "wrong-helicopter",
   "metadata": {},
   "outputs": [
    {
     "name": "stdout",
     "output_type": "stream",
     "text": [
      "              precision    recall  f1-score   support\n",
      "\n",
      "       False       0.94      0.83      0.88        93\n",
      "        True       0.94      0.98      0.96       260\n",
      "\n",
      "    accuracy                           0.94       353\n",
      "   macro avg       0.94      0.90      0.92       353\n",
      "weighted avg       0.94      0.94      0.94       353\n",
      "\n"
     ]
    }
   ],
   "source": [
    "print(classification_report(y_test, y_pred))"
   ]
  },
  {
   "cell_type": "markdown",
   "id": "freelance-george",
   "metadata": {},
   "source": [
    "## Test Data"
   ]
  },
  {
   "cell_type": "code",
   "execution_count": 93,
   "id": "urban-russell",
   "metadata": {},
   "outputs": [
    {
     "data": {
      "text/html": [
       "<div>\n",
       "<style scoped>\n",
       "    .dataframe tbody tr th:only-of-type {\n",
       "        vertical-align: middle;\n",
       "    }\n",
       "\n",
       "    .dataframe tbody tr th {\n",
       "        vertical-align: top;\n",
       "    }\n",
       "\n",
       "    .dataframe thead th {\n",
       "        text-align: right;\n",
       "    }\n",
       "</style>\n",
       "<table border=\"1\" class=\"dataframe\">\n",
       "  <thead>\n",
       "    <tr style=\"text-align: right;\">\n",
       "      <th></th>\n",
       "      <th>Status</th>\n",
       "      <th>Life expectancy</th>\n",
       "      <th>Adult Mortality</th>\n",
       "      <th>BMI</th>\n",
       "      <th>HIV/AIDS</th>\n",
       "      <th>Diphtheria</th>\n",
       "      <th>Polio</th>\n",
       "      <th>GDP</th>\n",
       "      <th>Income composition of resources</th>\n",
       "      <th>Schooling</th>\n",
       "    </tr>\n",
       "  </thead>\n",
       "  <tbody>\n",
       "    <tr>\n",
       "      <th>0</th>\n",
       "      <td>Developing</td>\n",
       "      <td>75.7</td>\n",
       "      <td>13.0</td>\n",
       "      <td>59.4</td>\n",
       "      <td>0.1</td>\n",
       "      <td>95.0</td>\n",
       "      <td>95.0</td>\n",
       "      <td>7748.123310</td>\n",
       "      <td>0.738</td>\n",
       "      <td>12.5</td>\n",
       "    </tr>\n",
       "    <tr>\n",
       "      <th>1</th>\n",
       "      <td>Developing</td>\n",
       "      <td>69.0</td>\n",
       "      <td>265.0</td>\n",
       "      <td>15.8</td>\n",
       "      <td>0.6</td>\n",
       "      <td>85.0</td>\n",
       "      <td>8.0</td>\n",
       "      <td>274.819723</td>\n",
       "      <td>0.473</td>\n",
       "      <td>8.9</td>\n",
       "    </tr>\n",
       "    <tr>\n",
       "      <th>2</th>\n",
       "      <td>Developing</td>\n",
       "      <td>72.6</td>\n",
       "      <td>11.0</td>\n",
       "      <td>45.0</td>\n",
       "      <td>0.1</td>\n",
       "      <td>97.0</td>\n",
       "      <td>97.0</td>\n",
       "      <td>1175.788981</td>\n",
       "      <td>0.656</td>\n",
       "      <td>10.7</td>\n",
       "    </tr>\n",
       "    <tr>\n",
       "      <th>3</th>\n",
       "      <td>Developing</td>\n",
       "      <td>73.7</td>\n",
       "      <td>133.0</td>\n",
       "      <td>32.5</td>\n",
       "      <td>0.1</td>\n",
       "      <td>97.0</td>\n",
       "      <td>97.0</td>\n",
       "      <td>7269.171140</td>\n",
       "      <td>0.736</td>\n",
       "      <td>12.3</td>\n",
       "    </tr>\n",
       "    <tr>\n",
       "      <th>4</th>\n",
       "      <td>Developing</td>\n",
       "      <td>63.3</td>\n",
       "      <td>241.0</td>\n",
       "      <td>16.4</td>\n",
       "      <td>1.2</td>\n",
       "      <td>69.0</td>\n",
       "      <td>7.0</td>\n",
       "      <td>468.567249</td>\n",
       "      <td>0.422</td>\n",
       "      <td>8.4</td>\n",
       "    </tr>\n",
       "    <tr>\n",
       "      <th>...</th>\n",
       "      <td>...</td>\n",
       "      <td>...</td>\n",
       "      <td>...</td>\n",
       "      <td>...</td>\n",
       "      <td>...</td>\n",
       "      <td>...</td>\n",
       "      <td>...</td>\n",
       "      <td>...</td>\n",
       "      <td>...</td>\n",
       "      <td>...</td>\n",
       "    </tr>\n",
       "    <tr>\n",
       "      <th>436</th>\n",
       "      <td>Developing</td>\n",
       "      <td>75.0</td>\n",
       "      <td>138.0</td>\n",
       "      <td>5.5</td>\n",
       "      <td>0.5</td>\n",
       "      <td>94.0</td>\n",
       "      <td>94.0</td>\n",
       "      <td>4682.728424</td>\n",
       "      <td>0.721</td>\n",
       "      <td>12.7</td>\n",
       "    </tr>\n",
       "    <tr>\n",
       "      <th>437</th>\n",
       "      <td>Developed</td>\n",
       "      <td>81.9</td>\n",
       "      <td>7.0</td>\n",
       "      <td>23.4</td>\n",
       "      <td>0.1</td>\n",
       "      <td>97.0</td>\n",
       "      <td>97.0</td>\n",
       "      <td>3488.399200</td>\n",
       "      <td>0.863</td>\n",
       "      <td>14.8</td>\n",
       "    </tr>\n",
       "    <tr>\n",
       "      <th>438</th>\n",
       "      <td>Developing</td>\n",
       "      <td>74.5</td>\n",
       "      <td>128.0</td>\n",
       "      <td>54.4</td>\n",
       "      <td>0.1</td>\n",
       "      <td>93.0</td>\n",
       "      <td>94.0</td>\n",
       "      <td>4274.376857</td>\n",
       "      <td>0.755</td>\n",
       "      <td>13.5</td>\n",
       "    </tr>\n",
       "    <tr>\n",
       "      <th>439</th>\n",
       "      <td>Developed</td>\n",
       "      <td>81.1</td>\n",
       "      <td>7.0</td>\n",
       "      <td>65.9</td>\n",
       "      <td>0.1</td>\n",
       "      <td>93.0</td>\n",
       "      <td>93.0</td>\n",
       "      <td>3997.256240</td>\n",
       "      <td>0.904</td>\n",
       "      <td>19.5</td>\n",
       "    </tr>\n",
       "    <tr>\n",
       "      <th>440</th>\n",
       "      <td>Developing</td>\n",
       "      <td>75.5</td>\n",
       "      <td>127.0</td>\n",
       "      <td>52.1</td>\n",
       "      <td>0.1</td>\n",
       "      <td>87.0</td>\n",
       "      <td>85.0</td>\n",
       "      <td>572.143130</td>\n",
       "      <td>0.717</td>\n",
       "      <td>13.3</td>\n",
       "    </tr>\n",
       "  </tbody>\n",
       "</table>\n",
       "<p>441 rows × 10 columns</p>\n",
       "</div>"
      ],
      "text/plain": [
       "         Status  Life expectancy  Adult Mortality   BMI  HIV/AIDS  Diphtheria  \\\n",
       "0    Developing             75.7             13.0  59.4       0.1        95.0   \n",
       "1    Developing             69.0            265.0  15.8       0.6        85.0   \n",
       "2    Developing             72.6             11.0  45.0       0.1        97.0   \n",
       "3    Developing             73.7            133.0  32.5       0.1        97.0   \n",
       "4    Developing             63.3            241.0  16.4       1.2        69.0   \n",
       "..          ...              ...              ...   ...       ...         ...   \n",
       "436  Developing             75.0            138.0   5.5       0.5        94.0   \n",
       "437   Developed             81.9              7.0  23.4       0.1        97.0   \n",
       "438  Developing             74.5            128.0  54.4       0.1        93.0   \n",
       "439   Developed             81.1              7.0  65.9       0.1        93.0   \n",
       "440  Developing             75.5            127.0  52.1       0.1        87.0   \n",
       "\n",
       "     Polio          GDP  Income composition of resources  Schooling  \n",
       "0     95.0  7748.123310                            0.738       12.5  \n",
       "1      8.0   274.819723                            0.473        8.9  \n",
       "2     97.0  1175.788981                            0.656       10.7  \n",
       "3     97.0  7269.171140                            0.736       12.3  \n",
       "4      7.0   468.567249                            0.422        8.4  \n",
       "..     ...          ...                              ...        ...  \n",
       "436   94.0  4682.728424                            0.721       12.7  \n",
       "437   97.0  3488.399200                            0.863       14.8  \n",
       "438   94.0  4274.376857                            0.755       13.5  \n",
       "439   93.0  3997.256240                            0.904       19.5  \n",
       "440   85.0   572.143130                            0.717       13.3  \n",
       "\n",
       "[441 rows x 10 columns]"
      ]
     },
     "execution_count": 93,
     "metadata": {},
     "output_type": "execute_result"
    }
   ],
   "source": [
    "test = pd.read_csv('prep0122255_test.csv')\n",
    "# test.head(5)\n",
    "test = test.drop(test.columns[0], axis=1)\n",
    "test"
   ]
  },
  {
   "cell_type": "code",
   "execution_count": 94,
   "id": "sublime-phrase",
   "metadata": {},
   "outputs": [
    {
     "name": "stdout",
     "output_type": "stream",
     "text": [
      "<class 'pandas.core.frame.DataFrame'>\n",
      "RangeIndex: 441 entries, 0 to 440\n",
      "Data columns (total 10 columns):\n",
      " #   Column                           Non-Null Count  Dtype  \n",
      "---  ------                           --------------  -----  \n",
      " 0   Status                           441 non-null    object \n",
      " 1   Life expectancy                  441 non-null    float64\n",
      " 2   Adult Mortality                  441 non-null    float64\n",
      " 3   BMI                              441 non-null    float64\n",
      " 4   HIV/AIDS                         441 non-null    float64\n",
      " 5   Diphtheria                       441 non-null    float64\n",
      " 6   Polio                            441 non-null    float64\n",
      " 7   GDP                              441 non-null    float64\n",
      " 8   Income composition of resources  441 non-null    float64\n",
      " 9   Schooling                        441 non-null    float64\n",
      "dtypes: float64(9), object(1)\n",
      "memory usage: 34.6+ KB\n",
      "None\n"
     ]
    }
   ],
   "source": [
    "print(test.info())"
   ]
  },
  {
   "cell_type": "code",
   "execution_count": 95,
   "id": "written-crazy",
   "metadata": {},
   "outputs": [
    {
     "name": "stdout",
     "output_type": "stream",
     "text": [
      "Null values:\n",
      " Status                             0\n",
      "Life expectancy                    0\n",
      "Adult Mortality                    0\n",
      "BMI                                0\n",
      "HIV/AIDS                           0\n",
      "Diphtheria                         0\n",
      "Polio                              0\n",
      "GDP                                0\n",
      "Income composition of resources    0\n",
      "Schooling                          0\n",
      "dtype: int64\n"
     ]
    }
   ],
   "source": [
    "print(\"Null values:\\n\", test.isnull().sum())"
   ]
  },
  {
   "cell_type": "code",
   "execution_count": 96,
   "id": "metallic-technician",
   "metadata": {},
   "outputs": [
    {
     "name": "stdout",
     "output_type": "stream",
     "text": [
      "Shape:\n",
      " (441, 10)\n"
     ]
    }
   ],
   "source": [
    "print(\"Shape:\\n\", test.shape)"
   ]
  },
  {
   "cell_type": "code",
   "execution_count": 97,
   "id": "alike-facility",
   "metadata": {},
   "outputs": [
    {
     "data": {
      "image/png": "[encoded data removed]",
      "text/plain": [
       "<Figure size 720x720 with 2 Axes>"
      ]
     },
     "metadata": {
      "needs_background": "light"
     },
     "output_type": "display_data"
    }
   ],
   "source": [
    "def correlation_heatmap(test):\n",
    "    correlations = test.corr()\n",
    "\n",
    "    fig, ax = plt.subplots(figsize=(10,10))\n",
    "    sns.heatmap(correlations, vmax=1.0, center=0, fmt='.2f',\n",
    "                square=True, linewidths=.5, annot=True, cbar_kws={\"shrink\": .70})\n",
    "    plt.show();\n",
    "    \n",
    "correlation_heatmap(test)"
   ]
  },
  {
   "cell_type": "code",
   "execution_count": 98,
   "id": "pregnant-prayer",
   "metadata": {},
   "outputs": [
    {
     "data": {
      "text/plain": [
       "Index(['Status', 'Life_Expectancy', 'Adult_Mortality', 'BMI', 'HIV/AIDS',\n",
       "       'Diphtheria', 'Polio', 'GDP', 'Income_Comp_Of_Resources', 'Schooling'],\n",
       "      dtype='object')"
      ]
     },
     "execution_count": 98,
     "metadata": {},
     "output_type": "execute_result"
    }
   ],
   "source": [
    "#renaming the columns \n",
    "test.rename(columns={\"Life expectancy\":\"Life_Expectancy\",\"Adult Mortality\":\"Adult_Mortality\",\n",
    "                   \"Income composition of resources\":\"Income_Comp_Of_Resources\"},inplace=True)\n",
    "test.columns"
   ]
  },
  {
   "cell_type": "code",
   "execution_count": 99,
   "id": "overhead-hardwood",
   "metadata": {},
   "outputs": [
    {
     "data": {
      "image/png": "[encoded data removed]",
      "text/plain": [
       "<Figure size 1080x1080 with 5 Axes>"
      ]
     },
     "metadata": {
      "needs_background": "light"
     },
     "output_type": "display_data"
    }
   ],
   "source": [
    "col_dict = {'Life_Expectancy':1,'Adult_Mortality':2,'Polio':3,'HIV/AIDS':4,'Income_Comp_Of_Resources':5}\n",
    "\n",
    "# Detect outliers in each variable using box plots.\n",
    "plt.figure(figsize=(15,15))\n",
    "\n",
    "for variable,i in col_dict.items():\n",
    "                     plt.subplot(5,4,i)\n",
    "                     plt.boxplot(test[variable],whis=1.5)\n",
    "                     plt.title(variable)\n",
    "\n",
    "plt.show()"
   ]
  },
  {
   "cell_type": "code",
   "execution_count": 100,
   "id": "spanish-screw",
   "metadata": {},
   "outputs": [],
   "source": [
    "features_with_outliers = [ 'Life_Expectancy', 'Adult_Mortality', 'BMI', 'HIV/AIDS',\n",
    "       'Diphtheria', 'Polio', 'GDP', 'Income_Comp_Of_Resources', 'Schooling']\n",
    "for feature in features_with_outliers:\n",
    "    q1 = test[feature].quantile(0.25)#the median of the lower half \n",
    "    q3 = test[feature].quantile(0.75)#the median of the upper half \n",
    "    IQR = q3-q1#interquartile range\n",
    "    lower_limit = q1 - (IQR*1.5)\n",
    "    upper_limit = q3 + (IQR*1.5)\n",
    "    test.loc[test[feature]<lower_limit,feature] = lower_limit\n",
    "    test.loc[test[feature]>upper_limit,feature] = upper_limit"
   ]
  },
  {
   "cell_type": "code",
   "execution_count": 101,
   "id": "favorite-cologne",
   "metadata": {},
   "outputs": [
    {
     "data": {
      "image/png": "[encoded data removed]",
      "text/plain": [
       "<Figure size 1080x1080 with 5 Axes>"
      ]
     },
     "metadata": {
      "needs_background": "light"
     },
     "output_type": "display_data"
    }
   ],
   "source": [
    "col_dict = {'Life_Expectancy':1,'Adult_Mortality':2,'Polio':3,'HIV/AIDS':4,'Income_Comp_Of_Resources':5}\n",
    "\n",
    "# Detect outliers in each variable using box plots.\n",
    "plt.figure(figsize=(15,15))\n",
    "\n",
    "for variable,i in col_dict.items():\n",
    "                     plt.subplot(5,4,i)\n",
    "                     plt.boxplot(test[variable],whis=1.5)\n",
    "                     plt.title(variable)\n",
    "\n",
    "plt.show()"
   ]
  },
  {
   "cell_type": "code",
   "execution_count": 102,
   "id": "collect-belarus",
   "metadata": {},
   "outputs": [],
   "source": [
    "from sklearn.preprocessing import LabelEncoder\n",
    "labelencoder = LabelEncoder() \n",
    "test['Status'] = labelencoder.fit_transform(test['Status'])\n",
    "test['Life_Expectancy'] = np.where(test['Life_Expectancy']>=65, 1, 0) # True = 1 Flase = 0 "
   ]
  },
  {
   "cell_type": "code",
   "execution_count": 103,
   "id": "unsigned-adelaide",
   "metadata": {},
   "outputs": [],
   "source": [
    "\n",
    "y = test.pop('Life_Expectancy')\n",
    "X = test\n",
    "\n",
    "from sklearn.model_selection import train_test_split\n",
    "x_train, x_test, y_train, y_test = train_test_split(X, y, test_size = 0.20, random_state= 42)\n",
    "\n",
    "from sklearn.preprocessing import StandardScaler\n",
    "sc = StandardScaler()\n",
    "x_train = sc.fit_transform(x_train)\n",
    "x_test = sc.transform(x_test)\n",
    "\n",
    "lm = LogisticRegression()\n",
    "model = lm.fit(x_train,y_train)\n",
    "y_pred=lm.predict(x_test)"
   ]
  },
  {
   "cell_type": "code",
   "execution_count": 104,
   "id": "specialized-strike",
   "metadata": {},
   "outputs": [
    {
     "name": "stdout",
     "output_type": "stream",
     "text": [
      "Logistic Regression model accuracy(in %): 93.25842696629213\n"
     ]
    }
   ],
   "source": [
    "print(\"Logistic Regression model accuracy(in %):\",accuracy_score(y_test, y_pred)*100)"
   ]
  },
  {
   "cell_type": "code",
   "execution_count": 105,
   "id": "amended-arabic",
   "metadata": {},
   "outputs": [
    {
     "data": {
      "text/html": [
       "<div>\n",
       "<style scoped>\n",
       "    .dataframe tbody tr th:only-of-type {\n",
       "        vertical-align: middle;\n",
       "    }\n",
       "\n",
       "    .dataframe tbody tr th {\n",
       "        vertical-align: top;\n",
       "    }\n",
       "\n",
       "    .dataframe thead th {\n",
       "        text-align: right;\n",
       "    }\n",
       "</style>\n",
       "<table border=\"1\" class=\"dataframe\">\n",
       "  <thead>\n",
       "    <tr style=\"text-align: right;\">\n",
       "      <th></th>\n",
       "      <th>Predicted Negative</th>\n",
       "      <th>Predicted Positive</th>\n",
       "    </tr>\n",
       "  </thead>\n",
       "  <tbody>\n",
       "    <tr>\n",
       "      <th>Actual Negative</th>\n",
       "      <td>26</td>\n",
       "      <td>2</td>\n",
       "    </tr>\n",
       "    <tr>\n",
       "      <th>Actual Positive</th>\n",
       "      <td>4</td>\n",
       "      <td>57</td>\n",
       "    </tr>\n",
       "  </tbody>\n",
       "</table>\n",
       "</div>"
      ],
      "text/plain": [
       "                 Predicted Negative  Predicted Positive\n",
       "Actual Negative                  26                   2\n",
       "Actual Positive                   4                  57"
      ]
     },
     "execution_count": 105,
     "metadata": {},
     "output_type": "execute_result"
    }
   ],
   "source": [
    "Conf_matrix = pd.DataFrame(confusion_matrix(y_test, y_pred), columns = ['Predicted Negative', 'Predicted Positive',], index = ['Actual Negative', 'Actual Positive'])\n",
    "Conf_matrix"
   ]
  },
  {
   "cell_type": "code",
   "execution_count": 106,
   "id": "least-porter",
   "metadata": {},
   "outputs": [
    {
     "name": "stdout",
     "output_type": "stream",
     "text": [
      "              precision    recall  f1-score   support\n",
      "\n",
      "           0       0.87      0.93      0.90        28\n",
      "           1       0.97      0.93      0.95        61\n",
      "\n",
      "    accuracy                           0.93        89\n",
      "   macro avg       0.92      0.93      0.92        89\n",
      "weighted avg       0.93      0.93      0.93        89\n",
      "\n"
     ]
    }
   ],
   "source": [
    "print(classification_report(y_test, y_pred))"
   ]
  },
  {
   "cell_type": "code",
   "execution_count": 107,
   "id": "contrary-headquarters",
   "metadata": {},
   "outputs": [
    {
     "name": "stdout",
     "output_type": "stream",
     "text": [
      "Accuracy of LR is =  0.9659090909090909\n",
      "test R2 Score is =  0.6873536299765808\n",
      "test Mean Squared Error =  0.06741573033707865\n",
      "test Mean absolute Squared Error =  0.06741573033707865\n"
     ]
    }
   ],
   "source": [
    "print(\"Accuracy of LR is = \",lm.score(x_train,y_train))\n",
    "print(\"test R2 Score is = \",r2_score(y_test,y_pred))\n",
    "print(\"test Mean Squared Error = \",mean_squared_error(y_test,y_pred))\n",
    "print(\"test Mean absolute Squared Error = \",mean_absolute_error(y_test,y_pred))"
   ]
  },
  {
   "cell_type": "code",
   "execution_count": null,
   "id": "accessible-property",
   "metadata": {},
   "outputs": [],
   "source": []
  },
  {
   "cell_type": "code",
   "execution_count": null,
   "id": "vulnerable-sussex",
   "metadata": {},
   "outputs": [],
   "source": []
  }
 ],
 "metadata": {
  "kernelspec": {
   "display_name": "Python 3",
   "language": "python",
   "name": "python3"
  },
  "language_info": {
   "codemirror_mode": {
    "name": "ipython",
    "version": 3
   },
   "file_extension": ".py",
   "mimetype": "text/x-python",
   "name": "python",
   "nbconvert_exporter": "python",
   "pygments_lexer": "ipython3",
   "version": "3.8.5"
  },
  "latex_envs": {
   "LaTeX_envs_menu_present": true,
   "autoclose": false,
   "autocomplete": true,
   "bibliofile": "biblio.bib",
   "cite_by": "apalike",
   "current_citInitial": 1,
   "eqLabelWithNumbers": true,
   "eqNumInitial": 1,
   "hotkeys": {
    "equation": "Ctrl-E",
    "itemize": "Ctrl-I"
   },
   "labels_anchors": false,
   "latex_user_defs": false,
   "report_style_numbering": false,
   "user_envs_cfg": false
  }
 },
 "nbformat": 4,
 "nbformat_minor": 5
}
